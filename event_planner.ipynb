{
 "cells": [
  {
   "cell_type": "code",
   "execution_count": 1,
   "metadata": {},
   "outputs": [],
   "source": [
    "# Imports for loading environment variables.\n",
    "from dotenv import load_dotenv\n",
    "import os"
   ]
  },
  {
   "cell_type": "code",
   "execution_count": 2,
   "metadata": {},
   "outputs": [],
   "source": [
    "# Load environment variables.\n",
    "load_dotenv()\n",
    "\n",
    "# Set the model name for our LLMs.\n",
    "OPENAI_MODEL = \"gpt-3.5-turbo\"\n",
    "# Store the API key in a variable.\n",
    "OPENAI_API_KEY = os.getenv(\"OPENAI_API_KEY\")"
   ]
  },
  {
   "cell_type": "code",
   "execution_count": 3,
   "metadata": {},
   "outputs": [],
   "source": [
    "# Additional imports for entity-based memory.\n",
    "from langchain_openai import ChatOpenAI\n",
    "from langchain.chains import ConversationChain\n",
    "from langchain.memory import ConversationEntityMemory\n",
    "from langchain.memory.prompt import ENTITY_MEMORY_CONVERSATION_TEMPLATE"
   ]
  },
  {
   "cell_type": "code",
   "execution_count": 5,
   "metadata": {},
   "outputs": [
    {
     "name": "stderr",
     "output_type": "stream",
     "text": [
      "/var/folders/_2/l8w7jbcj3270yyzbv4h1tfvh0000gn/T/ipykernel_7188/3283893030.py:5: LangChainDeprecationWarning: Please see the migration guide at: https://python.langchain.com/docs/versions/migrating_memory/\n",
      "  buffer = ConversationEntityMemory(llm=llm)\n",
      "/Users/pranavreddy/anaconda3/envs/dev/lib/python3.9/site-packages/pydantic/main.py:209: LangChainDeprecationWarning: Please see the migration guide at: https://python.langchain.com/docs/versions/migrating_memory/\n",
      "  validated_self = self.__pydantic_validator__.validate_python(data, self_instance=self)\n",
      "/var/folders/_2/l8w7jbcj3270yyzbv4h1tfvh0000gn/T/ipykernel_7188/3283893030.py:8: LangChainDeprecationWarning: The class `ConversationChain` was deprecated in LangChain 0.2.7 and will be removed in 1.0. Use :meth:`~RunnableWithMessageHistory: https://python.langchain.com/v0.2/api_reference/core/runnables/langchain_core.runnables.history.RunnableWithMessageHistory.html` instead.\n",
      "  conversation = ConversationChain(llm=llm, memory=buffer, prompt=ENTITY_MEMORY_CONVERSATION_TEMPLATE)\n"
     ]
    }
   ],
   "source": [
    "# Initialize the model.\n",
    "llm = ChatOpenAI(model=OPENAI_MODEL, temperature=0.0)\n",
    "\n",
    "# Initialize an object for conversational memory.\n",
    "buffer = ConversationEntityMemory(llm=llm)\n",
    "\n",
    "# Create the chain for conversation, using a ConversationBufferMemory object.\n",
    "conversation = ConversationChain(llm=llm, memory=buffer, prompt=ENTITY_MEMORY_CONVERSATION_TEMPLATE)"
   ]
  },
  {
   "cell_type": "code",
   "execution_count": 6,
   "metadata": {},
   "outputs": [],
   "source": [
    "# Prompt the user for their name.\n",
    "name = input(\"What is your name\")\n",
    "# Prompt the user for a description of their likes and dislikes.\n",
    "description = input(\"Discribe your likes and dislikes\")"
   ]
  },
  {
   "cell_type": "code",
   "execution_count": 7,
   "metadata": {},
   "outputs": [
    {
     "data": {
      "text/plain": [
       "{'input': 'My name is Bob and I will be organizing an activity. Star wars but and travelling but I dislike the rain.',\n",
       " 'history': '',\n",
       " 'entities': {'Bob': '', 'Star Wars': ''},\n",
       " 'response': \"That sounds like a fun activity! Organizing a Star Wars-themed event with a travel twist sounds exciting. It's a shame you dislike the rain, but hopefully the weather will cooperate for your plans. If you need any help or ideas for your activity, feel free to ask!\"}"
      ]
     },
     "execution_count": 7,
     "metadata": {},
     "output_type": "execute_result"
    }
   ],
   "source": [
    "# Create the query and run the chain with it.\n",
    "query = f\"My name is {name} and I will be organizing an activity. {description}.\"\n",
    "\n",
    "conversation.invoke(input= query)"
   ]
  },
  {
   "cell_type": "code",
   "execution_count": 10,
   "metadata": {},
   "outputs": [],
   "source": [
    "# Prompt the user for the number of other people.\n",
    "n_people = int(input(\"How many other people do you want to plan the activity for ?\"))\n",
    "\n",
    "# Loop for each other person.\n",
    "for person in range(n_people) : \n",
    "    # Prompt the user for the attendee's name.\n",
    "    name = input(\"What is the attendee's name?\")\n",
    "    # Prompt the user for the attendee's likes and dislikes.\n",
    "    description = input(f\"Please describe {name}'s likes and dislikes. \")\n",
    "\n",
    "    # Construct a query for this attendee and run the chain.\n",
    "    query = f\"{name} will be attending. {description}\"\n",
    "    conversation.run(input=query)"
   ]
  },
  {
   "cell_type": "code",
   "execution_count": 11,
   "metadata": {},
   "outputs": [],
   "source": [
    "# Define a final query as a string.\n",
    "query = \"What would be a good activity to plan for all the people mentioned?\""
   ]
  },
  {
   "cell_type": "code",
   "execution_count": 12,
   "metadata": {},
   "outputs": [
    {
     "name": "stdout",
     "output_type": "stream",
     "text": [
      "A good activity to plan for all the people mentioned, considering Bob's Star Wars-themed activity with a travel twist and Joe's preference for camping over snow, could be a camping trip to a Star Wars-themed location. This way, you can incorporate both elements that Bob and Joe enjoy while providing a unique and exciting experience for everyone involved. Additionally, you can plan some indoor activities in case of rain to accommodate Bob's dislike for rainy weather. This way, you can cater to the preferences of all attendees and ensure a memorable and enjoyable experience for everyone.\n"
     ]
    }
   ],
   "source": [
    "# Pass the query to the predict method which will make a prediction based on the query, and print the result.\n",
    "result = conversation.predict(input=query)\n",
    "print(result, end='\\n')"
   ]
  }
 ],
 "metadata": {
  "kernelspec": {
   "display_name": "Python 3.9.17 ('dev')",
   "language": "python",
   "name": "python3"
  },
  "language_info": {
   "codemirror_mode": {
    "name": "ipython",
    "version": 3
   },
   "file_extension": ".py",
   "mimetype": "text/x-python",
   "name": "python",
   "nbconvert_exporter": "python",
   "pygments_lexer": "ipython3",
   "version": "3.9.17"
  },
  "vscode": {
   "interpreter": {
    "hash": "caeb93e0c684d3bd81d88b6578a6aeba546c7425658c4217d79fa0d92d9f2865"
   }
  }
 },
 "nbformat": 4,
 "nbformat_minor": 2
}
