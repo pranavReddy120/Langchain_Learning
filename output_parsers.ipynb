{
 "cells": [
  {
   "cell_type": "code",
   "execution_count": 1,
   "metadata": {},
   "outputs": [],
   "source": [
    "from langchain_openai import ChatOpenAI\n",
    "from dotenv import load_dotenv\n",
    "import os"
   ]
  },
  {
   "cell_type": "markdown",
   "metadata": {},
   "source": [
    "# Model and API Key"
   ]
  },
  {
   "cell_type": "code",
   "execution_count": 7,
   "metadata": {},
   "outputs": [],
   "source": [
    "# Load environment variables.\n",
    "load_dotenv()\n",
    "\n",
    "# Set the model name for our LLMs.\n",
    "OPENAI_MODEL = \"gpt-3.5-turbo\"\n",
    "# Store the API key in a variable.\n",
    "OPENAI_API_KEY = os.getenv(\"OPENAI_API_KEY\")"
   ]
  },
  {
   "cell_type": "markdown",
   "metadata": {},
   "source": [
    "# List Parser"
   ]
  },
  {
   "cell_type": "code",
   "execution_count": 3,
   "metadata": {},
   "outputs": [],
   "source": [
    "# Additional imports for list parser.\n",
    "from langchain.output_parsers import CommaSeparatedListOutputParser"
   ]
  },
  {
   "cell_type": "code",
   "execution_count": 9,
   "metadata": {},
   "outputs": [
    {
     "name": "stdout",
     "output_type": "stream",
     "text": [
      "\n",
      "Amazing Spider-Man, Ultimate Spider-Man, Spider-Verse\n",
      "\n",
      "['Amazing Spider-Man', 'Ultimate Spider-Man', 'Spider-Verse']\n"
     ]
    }
   ],
   "source": [
    "# Initialize the model.\n",
    "llm = ChatOpenAI(openai_api_key=OPENAI_API_KEY, model=OPENAI_MODEL, temperature=0.9)\n",
    "\n",
    "# Initialize the output parser.\n",
    "parser = CommaSeparatedListOutputParser()\n",
    "\n",
    "# Get the output format instructions.\n",
    "instructions = parser.get_format_instructions()\n",
    "\n",
    "print()\n",
    "\n",
    "# Define a query as a string, combining with the instructions.\n",
    "query = \"List 3 Spiderman comics\" + \"\\n\\n\" + instructions\n",
    "\n",
    "# Pass the query to the invoke method, and print the result.\n",
    "result = llm.invoke(query)\n",
    "print(result.content)\n",
    "\n",
    "print()\n",
    "\n",
    "# Parse the result, store it, and print it.\n",
    "data = parser.parse(result.content)\n",
    "print(data)"
   ]
  },
  {
   "cell_type": "markdown",
   "metadata": {},
   "source": [
    "# Structured Parser"
   ]
  },
  {
   "cell_type": "code",
   "execution_count": 10,
   "metadata": {},
   "outputs": [],
   "source": [
    "# Additional imports for structured parser.\n",
    "from langchain.output_parsers import StructuredOutputParser, ResponseSchema"
   ]
  },
  {
   "cell_type": "code",
   "execution_count": 13,
   "metadata": {},
   "outputs": [
    {
     "name": "stdout",
     "output_type": "stream",
     "text": [
      "\n",
      "```json\n",
      "{\n",
      "\t\"country\": \"France\",\n",
      "\t\"capital\": \"Paris\"\n",
      "}\n",
      "```\n",
      "\n",
      "{'country': 'France', 'capital': 'Paris'}\n",
      "France\n",
      "Paris\n",
      "\n",
      "1. Eiffel Tower: One of the most iconic landmarks in the world, the Eiffel Tower offers stunning views of Paris from its observation decks. Visitors can also dine at the tower's restaurant or enjoy a picnic in the surrounding Champ de Mars park.\n",
      "\n",
      "2. Louvre Museum: Home to thousands of works of art, including the famous Mona Lisa, the Louvre is one of the largest and most visited museums in the world. Visitors can explore art and artifacts from various historical periods and cultures in the museum's impressive galleries.\n",
      "\n",
      "3. Notre-Dame Cathedral: This historic cathedral is a masterpiece of French Gothic architecture and a symbol of Paris. Visitors can admire the intricate stone carvings, stunning stained glass windows, and climb to the top for panoramic views of the city. Despite the fire in 2019, Notre-Dame remains a must-see attraction in Paris.\n"
     ]
    }
   ],
   "source": [
    "# Initialize the model.\n",
    "llm = ChatOpenAI(openai_api_key=OPENAI_API_KEY, model=OPENAI_MODEL, temperature=0.9)\n",
    "\n",
    "# Define the schemas for our parser.\n",
    "schemas = [\n",
    "    ResponseSchema(name='country', description='the country'),\n",
    "    ResponseSchema(name='capital', description='the capital')\n",
    "]\n",
    "\n",
    "# Initialize the output parser using the schema.\n",
    "parser = StructuredOutputParser.from_response_schemas(schemas)\n",
    "\n",
    "# Get the output format instructions and print them.\n",
    "instructions = parser.get_format_instructions()\n",
    "\n",
    "print()\n",
    "\n",
    "# Define a query as a string, combining with the instructions.\n",
    "query = \"Name a country and its capital.\" + \"\\n\\n\" + instructions\n",
    "\n",
    "# Pass the query to the invoke method, and print the result.\n",
    "result = llm.invoke(query)\n",
    "print(result.content)\n",
    "print()\n",
    "\n",
    "# Parse the result, store it, and print it.\n",
    "data = parser.parse(result.content)\n",
    "print(data)\n",
    "print(data['country'])\n",
    "print(data['capital'])\n",
    "print()\n",
    "\n",
    "# Define a new query using the parsed output.\n",
    "query2 = f\"What are three tourist attractions in {data['capital']}?\"\n",
    "\n",
    "# Pass the query to the invoke method, and print the result.\n",
    "result2 = llm.invoke(query2)\n",
    "print(result2.content)"
   ]
  },
  {
   "cell_type": "markdown",
   "metadata": {},
   "source": [
    "# Class-based Parser"
   ]
  },
  {
   "cell_type": "code",
   "execution_count": 19,
   "metadata": {},
   "outputs": [],
   "source": [
    "# Additional imports for Pydantic parser.\n",
    "from langchain.output_parsers import PydanticOutputParser\n",
    "from pydantic import Field, BaseModel"
   ]
  },
  {
   "cell_type": "code",
   "execution_count": 25,
   "metadata": {},
   "outputs": [
    {
     "name": "stdout",
     "output_type": "stream",
     "text": [
      "The output should be formatted as a JSON instance that conforms to the JSON schema below.\n",
      "\n",
      "As an example, for the schema {\"properties\": {\"foo\": {\"title\": \"Foo\", \"description\": \"a list of strings\", \"type\": \"array\", \"items\": {\"type\": \"string\"}}}, \"required\": [\"foo\"]}\n",
      "the object {\"foo\": [\"bar\", \"baz\"]} is a well-formatted instance of the schema. The object {\"properties\": {\"foo\": [\"bar\", \"baz\"]}} is not well-formatted.\n",
      "\n",
      "Here is the output schema:\n",
      "```\n",
      "{\"properties\": {\"name\": {\"description\": \"The country name\", \"title\": \"Name\", \"type\": \"string\"}, \"capital\": {\"description\": \"The capital city\", \"title\": \"Capital\", \"type\": \"string\"}, \"population\": {\"description\": \"the country's population\", \"title\": \"Population\", \"type\": \"integer\"}}, \"required\": [\"name\", \"capital\", \"population\"]}\n",
      "```\n",
      "\n",
      "{\n",
      "  \"name\": \"Japan\",\n",
      "  \"capital\": \"Tokyo\",\n",
      "  \"population\": 126476461\n",
      "}\n",
      "\n",
      "name='Japan' capital='Tokyo' population=126476461\n",
      "Country:  Japan\n",
      "Capital:  Tokyo\n",
      "Population:  126476461\n",
      "\n",
      "1. Tokyo Disneyland: A popular theme park located in Urayasu, just outside of Tokyo, featuring classic Disney characters, thrilling rides, and live entertainment.\n",
      "\n",
      "2. Senso-ji Temple: A historic Buddhist temple located in the Asakusa neighborhood, known for its iconic red lantern gate and vibrant Nakamise shopping street.\n",
      "\n",
      "3. Tokyo Skytree: The tallest structure in Japan, offering panoramic views of the city from its observation decks, as well as dining and shopping options at the base of the tower.\n"
     ]
    }
   ],
   "source": [
    "# Initialize the model.\n",
    "llm = ChatOpenAI(openai_api_key=OPENAI_API_KEY, model=OPENAI_MODEL, temperature=0.9)\n",
    "\n",
    "# Define the class for our parsed responses.\n",
    "class Country(BaseModel): \n",
    "    name: str = Field(description=\"The country name\")\n",
    "    capital: str = Field(description=\"The capital city\")\n",
    "    population: int = Field(description=\"the country's population\")\n",
    "\n",
    "# Initialize the output parser using the schema.\n",
    "parser = PydanticOutputParser(pydantic_object=Country)\n",
    "\n",
    "# Get the output format instructions and print them.\n",
    "instructions = parser.get_format_instructions()\n",
    "print(instructions)\n",
    "print()\n",
    "\n",
    "# Define a query as a string, combining with the instructions.\n",
    "query = \"Name a country, its capital and its total population\" + \"\\n\\n\" + instructions\n",
    "\n",
    "# Pass the query to the invoke method, and print the result.\n",
    "result = llm.invoke(query)\n",
    "print(result.content)\n",
    "print()\n",
    "\n",
    "# Parse the result, store it, and print it.\n",
    "data = parser.parse(result.content)\n",
    "print(data)\n",
    "print(\"Country: \", data.name)\n",
    "print(\"Capital: \", data.capital)\n",
    "print(\"Population: \", data.population)\n",
    "print()\n",
    "\n",
    "# Define a new query using the parsed output.\n",
    "query2 = f\"What are 3 tourist attractions in {data.capital}\"\n",
    "\n",
    "# Pass the query to the invoke method, and print the result.\n",
    "result = llm.invoke(query2)\n",
    "print(result.content)"
   ]
  }
 ],
 "metadata": {
  "kernelspec": {
   "display_name": "Python 3.9.17 ('dev')",
   "language": "python",
   "name": "python3"
  },
  "language_info": {
   "codemirror_mode": {
    "name": "ipython",
    "version": 3
   },
   "file_extension": ".py",
   "mimetype": "text/x-python",
   "name": "python",
   "nbconvert_exporter": "python",
   "pygments_lexer": "ipython3",
   "version": "3.9.17"
  },
  "vscode": {
   "interpreter": {
    "hash": "caeb93e0c684d3bd81d88b6578a6aeba546c7425658c4217d79fa0d92d9f2865"
   }
  }
 },
 "nbformat": 4,
 "nbformat_minor": 2
}
