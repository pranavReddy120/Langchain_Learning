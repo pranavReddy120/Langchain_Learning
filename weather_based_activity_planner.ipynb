{
 "cells": [
  {
   "cell_type": "code",
   "execution_count": 1,
   "metadata": {},
   "outputs": [],
   "source": [
    "# Imports for loading environment variables.\n",
    "from dotenv import load_dotenv\n",
    "import os"
   ]
  },
  {
   "cell_type": "code",
   "execution_count": 2,
   "metadata": {},
   "outputs": [],
   "source": [
    "# Load environment variables.\n",
    "load_dotenv()\n",
    "\n",
    "# Set the model name for our LLMs.\n",
    "OPENAI_MODEL = \"gpt-3.5-turbo\"\n",
    "# Store the API key in a variable.\n",
    "OPENAI_API_KEY = os.getenv(\"OPENAI_API_KEY\")"
   ]
  },
  {
   "cell_type": "code",
   "execution_count": 3,
   "metadata": {},
   "outputs": [],
   "source": [
    "# Additional imports for agent with built-in tools.\n",
    "from langchain_openai import ChatOpenAI\n",
    "from langchain.agents import initialize_agent, load_tools"
   ]
  },
  {
   "cell_type": "code",
   "execution_count": 4,
   "metadata": {},
   "outputs": [],
   "source": [
    "# Initialize the model.\n",
    "llm = ChatOpenAI(openai_api_key=OPENAI_API_KEY, model=OPENAI_MODEL, temperature=0.3)"
   ]
  },
  {
   "cell_type": "code",
   "execution_count": 7,
   "metadata": {},
   "outputs": [],
   "source": [
    "# Set up the built-in wikipedia and open weather tools.\n",
    "tools = load_tools(['openweathermap-api'], llm=llm)"
   ]
  },
  {
   "cell_type": "code",
   "execution_count": 8,
   "metadata": {},
   "outputs": [
    {
     "name": "stderr",
     "output_type": "stream",
     "text": [
      "/var/folders/_2/l8w7jbcj3270yyzbv4h1tfvh0000gn/T/ipykernel_21754/3065475509.py:2: LangChainDeprecationWarning: LangChain agents will continue to be supported, but it is recommended for new use cases to be built with LangGraph. LangGraph offers a more flexible and full-featured framework for building agents, including support for tool-calling, persistence of state, and human-in-the-loop workflows. For details, refer to the `LangGraph documentation <https://langchain-ai.github.io/langgraph/>`_ as well as guides for `Migrating from AgentExecutor <https://python.langchain.com/docs/how_to/migrate_agent/>`_ and LangGraph's `Pre-built ReAct agent <https://langchain-ai.github.io/langgraph/how-tos/create-react-agent/>`_.\n",
      "  agent = initialize_agent(tools, agent='chat-zero-shot-react-description', handle_parsing_errors=True, max_iterations=10, verbose=True, llm=llm)\n"
     ]
    }
   ],
   "source": [
    "# Initialize the agent.\n",
    "agent = initialize_agent(tools, agent='chat-zero-shot-react-description', handle_parsing_errors=True, max_iterations=10, verbose=True, llm=llm)"
   ]
  },
  {
   "cell_type": "code",
   "execution_count": 16,
   "metadata": {},
   "outputs": [],
   "source": [
    "# Ask the user for their location.\n",
    "location = input(\"What city do you want to visit? Please include Country/state/Province\")"
   ]
  },
  {
   "cell_type": "code",
   "execution_count": 17,
   "metadata": {},
   "outputs": [],
   "source": [
    "# Define a format for our prompt template.\n",
    "query = {\"input\": f\"\"\"Please suggest a potential activity that the user can do in {location}. The activity should be appropriate to the current weather. Tell the user what the current weather at {location} is. Try to name specific places whenever possible.\"\"\"}"
   ]
  },
  {
   "cell_type": "code",
   "execution_count": 18,
   "metadata": {},
   "outputs": [
    {
     "name": "stdout",
     "output_type": "stream",
     "text": [
      "\n",
      "\n",
      "\u001b[1m> Entering new AgentExecutor chain...\u001b[0m\n",
      "\u001b[32;1m\u001b[1;3mQuestion: Please suggest a potential activity that the user can do in Vancouver. The activity should be appropriate to the current weather. Tell the user what the current weather at Vancouver is. Try to name specific places whenever possible.\n",
      "\n",
      "Thought: I should use the open_weather_map tool to fetch the current weather in Vancouver and then suggest an activity based on that weather.\n",
      "\n",
      "Action:\n",
      "```\n",
      "{\n",
      "  \"action\": \"open_weather_map\",\n",
      "  \"action_input\": \"Vancouver\"\n",
      "}\n",
      "```\n",
      "\n",
      "\u001b[0m\n",
      "Observation: \u001b[36;1m\u001b[1;3mIn Vancouver, the current weather is as follows:\n",
      "Detailed status: overcast clouds\n",
      "Wind speed: 5.14 m/s, direction: 320°\n",
      "Humidity: 92%\n",
      "Temperature: \n",
      "  - Current: 6.14°C\n",
      "  - High: 6.79°C\n",
      "  - Low: 5.14°C\n",
      "  - Feels like: 2.7°C\n",
      "Rain: {}\n",
      "Heat index: None\n",
      "Cloud cover: 100%\u001b[0m\n",
      "Thought:\u001b[32;1m\u001b[1;3mBased on the current weather in Vancouver (overcast clouds, 6.14°C, 92% humidity), a great activity to do would be to visit the Vancouver Aquarium. The indoor setting of the aquarium would provide a nice escape from the overcast weather while allowing you to explore marine life and exhibits.\n",
      "\n",
      "Final Answer: A potential activity that the user can do in Vancouver is to visit the Vancouver Aquarium.\u001b[0m\n",
      "\n",
      "\u001b[1m> Finished chain.\u001b[0m\n"
     ]
    }
   ],
   "source": [
    "# Run the agent and print the result.\n",
    "result = agent.run(query)"
   ]
  }
 ],
 "metadata": {
  "kernelspec": {
   "display_name": "Python 3.9.17 ('dev')",
   "language": "python",
   "name": "python3"
  },
  "language_info": {
   "codemirror_mode": {
    "name": "ipython",
    "version": 3
   },
   "file_extension": ".py",
   "mimetype": "text/x-python",
   "name": "python",
   "nbconvert_exporter": "python",
   "pygments_lexer": "ipython3",
   "version": "3.9.17"
  },
  "vscode": {
   "interpreter": {
    "hash": "caeb93e0c684d3bd81d88b6578a6aeba546c7425658c4217d79fa0d92d9f2865"
   }
  }
 },
 "nbformat": 4,
 "nbformat_minor": 2
}
