{
 "cells": [
  {
   "cell_type": "code",
   "execution_count": 1,
   "metadata": {},
   "outputs": [],
   "source": [
    "from langchain_openai import ChatOpenAI\n",
    "from dotenv import load_dotenv\n",
    "import os"
   ]
  },
  {
   "cell_type": "markdown",
   "metadata": {},
   "source": [
    "# Model and API Key"
   ]
  },
  {
   "cell_type": "code",
   "execution_count": 2,
   "metadata": {},
   "outputs": [],
   "source": [
    "# Load environment variables.\n",
    "load_dotenv()\n",
    "\n",
    "# Set the model name for our LLMs.\n",
    "OPENAI_MODEL = \"gpt-3.5-turbo\"\n",
    "# Store the API key in a variable.\n",
    "OPENAI_API_KEY = os.getenv(\"OPENAI_API_KEY\")"
   ]
  },
  {
   "cell_type": "markdown",
   "metadata": {},
   "source": [
    "# Roles"
   ]
  },
  {
   "cell_type": "code",
   "execution_count": 3,
   "metadata": {},
   "outputs": [],
   "source": [
    "# Additional imports for human and system messages.\n",
    "from langchain.schema import HumanMessage, SystemMessage"
   ]
  },
  {
   "cell_type": "code",
   "execution_count": 12,
   "metadata": {},
   "outputs": [
    {
     "name": "stdout",
     "output_type": "stream",
     "text": [
      "Before starting any new exercise or dietary plan, it's important to consult with a healthcare provider or a registered dietitian to ensure it is safe and appropriate for your individual needs and goals. Gaining muscle mass requires a combination of targeted exercises and a well-balanced diet that supports muscle growth. Here is a general exercise and dietary plan for gaining muscle:\n",
      "\n",
      "Exercise Plan:\n",
      "1. Resistance Training: Focus on compound exercises that target multiple muscle groups such as squats, deadlifts, bench press, rows, and overhead presses. Aim to lift heavy weights with proper form to stimulate muscle growth.\n",
      "2. Progressive Overload: Gradually increase the weight, sets, and reps of your exercises over time to continually challenge your muscles and promote muscle growth.\n",
      "3. Rest and Recovery: Allow your muscles to recover by incorporating rest days into your workout routine. Adequate rest is essential for muscle repair and growth.\n",
      "4. Cardiovascular Exercise: Include some cardiovascular exercise to improve overall fitness and cardiovascular health, but don't overdo it as excessive cardio can hinder muscle growth.\n",
      "\n",
      "Dietary Plan:\n",
      "1. Caloric Surplus: To gain muscle mass, you need to consume more calories than you burn. Aim for a caloric surplus of 250-500 calories per day to support muscle growth.\n",
      "2. Protein Intake: Protein is essential for muscle repair and growth. Aim to consume 1.2-2.2 grams of protein per kilogram of body weight per day from sources like lean meats, poultry, fish, eggs, dairy, legumes, and protein supplements.\n",
      "3. Carbohydrates: Carbohydrates provide energy for your workouts and help replenish glycogen stores in your muscles. Include complex carbohydrates like whole grains, fruits, vegetables, and legumes in your diet.\n",
      "4. Healthy Fats: Include sources of healthy fats such as avocados, nuts, seeds, and olive oil in your diet to support hormone production and overall health.\n",
      "5. Hydration: Stay hydrated by drinking plenty of water throughout the day to support muscle function and recovery.\n",
      "\n",
      "Remember that consistency is key when it comes to gaining muscle mass. It's important to track your progress, adjust your exercise and dietary plan as needed, and be patient as muscle growth takes time.\n"
     ]
    }
   ],
   "source": [
    "llm = ChatOpenAI(openai_api_key=OPENAI_API_KEY, model=OPENAI_MODEL, temperature=0.3)\n",
    "# Create system messages for the llm\n",
    "messages = [\n",
    "    SystemMessage(content=\"You are an athletic trainer\"),\n",
    "    HumanMessage(content='Provide me with an exercise and dietary plan for gaining 10 pounds of muscle')\n",
    "]\n",
    "\n",
    "# Pass the messages into the llm\n",
    "result = llm(messages)\n",
    "print(result.content)"
   ]
  },
  {
   "cell_type": "markdown",
   "metadata": {},
   "source": [
    "# Templates for Instructions"
   ]
  },
  {
   "cell_type": "code",
   "execution_count": 13,
   "metadata": {},
   "outputs": [],
   "source": [
    "# Additional imports for prompt template and LLM chain.\n",
    "from langchain import PromptTemplate\n",
    "from langchain.chains import LLMChain"
   ]
  },
  {
   "cell_type": "code",
   "execution_count": 14,
   "metadata": {},
   "outputs": [
    {
     "name": "stdout",
     "output_type": "stream",
     "text": [
      "{'query': 'Why is the sky blue? ', 'text': \"I'm sorry, but as a history tutor, I am only able to answer questions related to history. I cannot provide information on why the sky is blue. If you have any historical questions, feel free to ask!\"}\n",
      "\n",
      "{'query': 'Describe the Battle of Waterloo', 'text': \"The Battle of Waterloo took place on June 18, 1815, near Waterloo in present-day Belgium. It was fought between the French army, led by Emperor Napoleon Bonaparte, and the Allied forces, primarily consisting of British, Dutch, Belgian, and Prussian troops, commanded by the Duke of Wellington and Gebhard Leberecht von Blücher.\\n\\nThe battle was a decisive victory for the Allied forces, marking the end of Napoleon's rule as Emperor of the French. The battle is often seen as the culmination of the Napoleonic Wars, which had been ongoing for over a decade. Napoleon's defeat at Waterloo led to his second abdication and eventual exile to the island of Saint Helena, where he died in 1821.\"}\n"
     ]
    }
   ],
   "source": [
    "llm = ChatOpenAI(openai_api_key=OPENAI_API_KEY, model=OPENAI_MODEL, temperature=0.3)\n",
    "# Define a format for the model\n",
    "format = \"\"\"\n",
    "You are a history tutor and must only answer questions covered in a theoretical history course. If the human asks questions not related to history, remind them that you cannot answer anything non-history related as that is not you job. If they ask a question where you dont have all the information to answer, tell them you don't know and don't make up any answer\n",
    "Question: {query}\n",
    "Answer:\n",
    "\"\"\"\n",
    "\n",
    "# Create the prompt template\n",
    "prompt_template = PromptTemplate(input_variables = [\"query\"], template = format)\n",
    "chain = LLMChain(llm=llm, prompt=prompt_template)\n",
    "\n",
    "query = {\"query\" : \"Why is the sky blue? \"}\n",
    "\n",
    "result = chain.invoke(query)\n",
    "print(result)\n",
    "print()\n",
    "\n",
    "query = {\"query\" : \"Describe the Battle of Waterloo\"}\n",
    "\n",
    "result = chain.invoke(query)\n",
    "print(result)"
   ]
  },
  {
   "cell_type": "markdown",
   "metadata": {},
   "source": [
    "# Templates for Examples"
   ]
  },
  {
   "cell_type": "code",
   "execution_count": 8,
   "metadata": {},
   "outputs": [],
   "source": [
    "# Additional import for the template.\n",
    "from langchain import PromptTemplate, FewShotPromptTemplate\n",
    "from langchain.chains import LLMChain"
   ]
  },
  {
   "cell_type": "code",
   "execution_count": 15,
   "metadata": {},
   "outputs": [
    {
     "name": "stdout",
     "output_type": "stream",
     "text": [
      "{'query': 'grime', 'text': 'In the slime, a mime did a crime'}\n"
     ]
    }
   ],
   "source": [
    "# Initialize the model.\n",
    "llm = ChatOpenAI(openai_api_key = OPENAI_API_KEY, \n",
    "                 model=OPENAI_MODEL, \n",
    "                 temperature=0.3)\n",
    "\n",
    "# Define a prefix that explains the prompt.\n",
    "prefix = \"\"\" \n",
    "Here are examples between a human and AI. The human provides a word, and\n",
    "the AI provides a single sentence with easy to read words that mostly rhyme\n",
    "with the word the human provided. The sentence does not have to include the \n",
    "original word. For example:\n",
    "\n",
    "\"\"\"\n",
    "\n",
    "# Create examples.\n",
    "examples = [\n",
    "    {\n",
    "        \"query\" : \"rat\",\n",
    "        \"answer\" : \"The cat sat next to the bat\"\n",
    "    }, \n",
    "    {\n",
    "        \"query\" : \"frog\",\n",
    "        \"answer\" : \"A dog hops a log in the bog\"\n",
    "    },\n",
    "    {\n",
    "        \"query\" : \"ten\",\n",
    "        \"answer\" : \"Ben sent ten hens to the glen\"\n",
    "    }\n",
    "]\n",
    "\n",
    "# Define a format for the examples.\n",
    "example_format = \"\"\" \n",
    "Human : {query}\n",
    "AI : {answer}\n",
    "\"\"\"\n",
    "\n",
    "# Create a prompt template for the examples.\n",
    "example_template = PromptTemplate(\n",
    "    input_variable = [\"query\", \"answer\"],\n",
    "    template = example_format\n",
    ")\n",
    "\n",
    "# Provide a suffix that includes the query.\n",
    "suffix = \"\"\" \n",
    "Human : {query}\n",
    "AI : \n",
    "\"\"\"\n",
    "prompt_template = FewShotPromptTemplate(\n",
    "    examples=examples,\n",
    "    example_prompt=example_template,\n",
    "    input_variables=[\"query\"],\n",
    "    prefix=prefix,\n",
    "    suffix=suffix,\n",
    "    example_separator=\"\\n\\n\"\n",
    ")\n",
    "# Construct a chain using this template.\n",
    "chain = LLMChain(llm = llm,\n",
    "                 prompt = prompt_template)\n",
    "\n",
    "# Define the query as a string.\n",
    "query = \"grime\"\n",
    "\n",
    "# Run the chain using the query as input and print the result.\n",
    "result = chain.invoke(query)\n",
    "print(result)"
   ]
  },
  {
   "cell_type": "code",
   "execution_count": 16,
   "metadata": {},
   "outputs": [
    {
     "data": {
      "text/plain": [
       "'In the slime, a mime did a crime'"
      ]
     },
     "execution_count": 16,
     "metadata": {},
     "output_type": "execute_result"
    }
   ],
   "source": [
    "result[\"text\"]"
   ]
  }
 ],
 "metadata": {
  "kernelspec": {
   "display_name": "Python 3.9.17 ('dev')",
   "language": "python",
   "name": "python3"
  },
  "language_info": {
   "codemirror_mode": {
    "name": "ipython",
    "version": 3
   },
   "file_extension": ".py",
   "mimetype": "text/x-python",
   "name": "python",
   "nbconvert_exporter": "python",
   "pygments_lexer": "ipython3",
   "version": "3.9.17"
  },
  "vscode": {
   "interpreter": {
    "hash": "caeb93e0c684d3bd81d88b6578a6aeba546c7425658c4217d79fa0d92d9f2865"
   }
  }
 },
 "nbformat": 4,
 "nbformat_minor": 2
}
