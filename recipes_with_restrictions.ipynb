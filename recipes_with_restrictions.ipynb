{
 "cells": [
  {
   "cell_type": "code",
   "execution_count": 1,
   "metadata": {},
   "outputs": [],
   "source": [
    "# Imports for loading environment variables.\n",
    "from dotenv import load_dotenv\n",
    "import os"
   ]
  },
  {
   "cell_type": "code",
   "execution_count": 2,
   "metadata": {},
   "outputs": [
    {
     "data": {
      "text/plain": [
       "str"
      ]
     },
     "execution_count": 2,
     "metadata": {},
     "output_type": "execute_result"
    }
   ],
   "source": [
    "# Load environment variables.\n",
    "load_dotenv()\n",
    "\n",
    "# Set the model name for our LLMs.\n",
    "OPENAI_MODEL = \"gpt-3.5-turbo\"\n",
    "# Store the API key in a variable.\n",
    "OPENAI_API_KEY = os.getenv(\"OPENAI_API_KEY\")\n",
    "type(OPENAI_API_KEY)"
   ]
  },
  {
   "cell_type": "code",
   "execution_count": 3,
   "metadata": {},
   "outputs": [],
   "source": [
    "# Additional imports for specific chains we'll use.\n",
    "from langchain_openai import ChatOpenAI\n",
    "from langchain.chains import LLMChain\n",
    "from langchain.chains.constitutional_ai.base import ConstitutionalChain\n",
    "from langchain.chains.constitutional_ai.models import ConstitutionalPrinciple\n",
    "from langchain.prompts import ChatPromptTemplate"
   ]
  },
  {
   "cell_type": "code",
   "execution_count": 4,
   "metadata": {},
   "outputs": [],
   "source": [
    "# Ask the user for a main ingredient for each day.\n",
    "food1 = input(\"What main ingredient would you like in the first day's meal?\")\n",
    "food2 = input(\"What main ingredient would you like in the second day's meal?\")"
   ]
  },
  {
   "cell_type": "code",
   "execution_count": 5,
   "metadata": {},
   "outputs": [],
   "source": [
    "# Ask the user for a dietary restriction.\n",
    "requirement = input(\"Please name your dietary type (vegan, omnivorous, kosher, etc.)?\")"
   ]
  },
  {
   "cell_type": "code",
   "execution_count": 6,
   "metadata": {},
   "outputs": [],
   "source": [
    "# Initialize the model.\n",
    "llm = ChatOpenAI(openai_api_key=OPENAI_API_KEY, model=OPENAI_MODEL, temperature=0.3)"
   ]
  },
  {
   "cell_type": "code",
   "execution_count": 7,
   "metadata": {},
   "outputs": [
    {
     "name": "stderr",
     "output_type": "stream",
     "text": [
      "/var/folders/_2/l8w7jbcj3270yyzbv4h1tfvh0000gn/T/ipykernel_3952/1061654881.py:2: LangChainDeprecationWarning: The class `LLMChain` was deprecated in LangChain 0.1.17 and will be removed in 1.0. Use :meth:`~RunnableSequence, e.g., `prompt | llm`` instead.\n",
      "  recipe_chain = LLMChain(llm=llm, prompt=ChatPromptTemplate.from_template(\"{query}\"))\n"
     ]
    }
   ],
   "source": [
    "# Create a chat chain for creating the recipes.\n",
    "recipe_chain = LLMChain(llm=llm, prompt=ChatPromptTemplate.from_template(\"{query}\"))"
   ]
  },
  {
   "cell_type": "code",
   "execution_count": 8,
   "metadata": {},
   "outputs": [],
   "source": [
    "# Create the principle for our constitutional chain.\n",
    "principle = ConstitutionalPrinciple(\n",
    "    name=\"Dietary Requirements\",\n",
    "    critique_request=f\"The model should only offer recipes that fit a {requirement}\",\n",
    "    revision_request=f\"Modify the recipes to fit a {requirement} diet\"\n",
    ")"
   ]
  },
  {
   "cell_type": "code",
   "execution_count": 9,
   "metadata": {},
   "outputs": [],
   "source": [
    "# Create a constitutional chain for ensuring the requested type of recipes.\n",
    "constitutional_chain = ConstitutionalChain.from_llm(\n",
    "    chain = recipe_chain,\n",
    "    constitutional_principles=[principle],\n",
    "    llm=llm,\n",
    "\n",
    ")"
   ]
  },
  {
   "cell_type": "code",
   "execution_count": 10,
   "metadata": {},
   "outputs": [],
   "source": [
    "# Set the input query for the first chain in the sequence.\n",
    "query = {\"query\" : f\"Give me two dinners to make this week, one has to have {food1} and the other {food2} \"}"
   ]
  },
  {
   "cell_type": "code",
   "execution_count": 11,
   "metadata": {},
   "outputs": [
    {
     "name": "stdout",
     "output_type": "stream",
     "text": [
      "\n",
      "1. Chickpea and vegetable stir-fry:\n",
      "- Ingredients: chickpeas, mixed vegetables (such as bell peppers, broccoli, carrots), soy sauce, garlic, ginger, sesame oil, rice or noodles\n",
      "- Instructions: Drain and rinse chickpeas. Cut mixed vegetables into bite-sized pieces and stir-fry in a pan with garlic and ginger. Add in chickpeas and cook until heated through. Stir in soy sauce and sesame oil. Serve over rice or noodles.\n",
      "\n",
      "2. Baked tofu with lemon herb sauce:\n",
      "- Ingredients: firm tofu, vegan butter, lemon juice, garlic, fresh herbs (such as parsley, dill, or thyme), salt and pepper\n",
      "- Instructions: Preheat oven to 375°F. In a small saucepan, melt vegan butter and stir in lemon juice, minced garlic, and chopped herbs. Cut tofu into slices and place on a baking sheet. Season with salt and pepper. Pour lemon herb sauce over the tofu. Bake for 15-20 minutes or until tofu is heated through. Serve with a side of roasted vegetables or a salad.\n"
     ]
    }
   ],
   "source": [
    "# Run the constitutional chain using the query as the first input.\n",
    "result = constitutional_chain.invoke(query)\n",
    "print(f\"\\n{result['output']}\")"
   ]
  },
  {
   "cell_type": "code",
   "execution_count": 12,
   "metadata": {},
   "outputs": [
    {
     "name": "stdout",
     "output_type": "stream",
     "text": [
      "{   'output': '1. Chickpea and vegetable stir-fry:\\n'\n",
      "              '- Ingredients: chickpeas, mixed vegetables (such as bell '\n",
      "              'peppers, broccoli, carrots), soy sauce, garlic, ginger, sesame '\n",
      "              'oil, rice or noodles\\n'\n",
      "              '- Instructions: Drain and rinse chickpeas. Cut mixed vegetables '\n",
      "              'into bite-sized pieces and stir-fry in a pan with garlic and '\n",
      "              'ginger. Add in chickpeas and cook until heated through. Stir in '\n",
      "              'soy sauce and sesame oil. Serve over rice or noodles.\\n'\n",
      "              '\\n'\n",
      "              '2. Baked tofu with lemon herb sauce:\\n'\n",
      "              '- Ingredients: firm tofu, vegan butter, lemon juice, garlic, '\n",
      "              'fresh herbs (such as parsley, dill, or thyme), salt and pepper\\n'\n",
      "              '- Instructions: Preheat oven to 375°F. In a small saucepan, '\n",
      "              'melt vegan butter and stir in lemon juice, minced garlic, and '\n",
      "              'chopped herbs. Cut tofu into slices and place on a baking '\n",
      "              'sheet. Season with salt and pepper. Pour lemon herb sauce over '\n",
      "              'the tofu. Bake for 15-20 minutes or until tofu is heated '\n",
      "              'through. Serve with a side of roasted vegetables or a salad.',\n",
      "    'query': 'Give me two dinners to make this week, one has to have chicken '\n",
      "             'and the other salmon '}\n"
     ]
    }
   ],
   "source": [
    "import pprint\n",
    "\n",
    "pp = pprint.PrettyPrinter(indent=4)\n",
    "pp.pprint(result)"
   ]
  },
  {
   "cell_type": "code",
   "execution_count": null,
   "metadata": {},
   "outputs": [],
   "source": [
    "\n"
   ]
  }
 ],
 "metadata": {
  "kernelspec": {
   "display_name": "Python 3.9.17 ('dev')",
   "language": "python",
   "name": "python3"
  },
  "language_info": {
   "codemirror_mode": {
    "name": "ipython",
    "version": 3
   },
   "file_extension": ".py",
   "mimetype": "text/x-python",
   "name": "python",
   "nbconvert_exporter": "python",
   "pygments_lexer": "ipython3",
   "version": "3.9.17"
  },
  "vscode": {
   "interpreter": {
    "hash": "caeb93e0c684d3bd81d88b6578a6aeba546c7425658c4217d79fa0d92d9f2865"
   }
  }
 },
 "nbformat": 4,
 "nbformat_minor": 2
}
