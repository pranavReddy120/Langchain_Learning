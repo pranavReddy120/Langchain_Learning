{
 "cells": [
  {
   "cell_type": "code",
   "execution_count": 1,
   "metadata": {},
   "outputs": [],
   "source": [
    "from langchain_openai import ChatOpenAI\n",
    "from dotenv import load_dotenv\n",
    "import os"
   ]
  },
  {
   "cell_type": "markdown",
   "metadata": {},
   "source": [
    "# Model and API Key"
   ]
  },
  {
   "cell_type": "code",
   "execution_count": 2,
   "metadata": {},
   "outputs": [],
   "source": [
    "# Load environment variables.\n",
    "load_dotenv()\n",
    "\n",
    "# Set the model name for our LLMs.\n",
    "OPENAI_MODEL = \"gpt-3.5-turbo\"\n",
    "# Store the API key in a variable.\n",
    "OPENAI_API_KEY = os.getenv(\"OPENAI_API_KEY\")"
   ]
  },
  {
   "cell_type": "markdown",
   "metadata": {},
   "source": [
    "# Agents & Tools"
   ]
  },
  {
   "cell_type": "code",
   "execution_count": 3,
   "metadata": {},
   "outputs": [],
   "source": [
    "# Additional imports for agent with built-in tools.\n",
    "from langchain.agents import initialize_agent, load_tools"
   ]
  },
  {
   "cell_type": "code",
   "execution_count": 8,
   "metadata": {},
   "outputs": [
    {
     "name": "stdout",
     "output_type": "stream",
     "text": [
      "\n",
      "\n",
      "\u001b[1m> Entering new AgentExecutor chain...\u001b[0m\n",
      "\u001b[32;1m\u001b[1;3mThought: The capital of Canada is Ottawa, so I will need to find information about the current mayor of Ottawa to determine their age. \n",
      "\n",
      "Action:\n",
      "```\n",
      "{\n",
      "  \"action\": \"wikipedia\",\n",
      "  \"action_input\": \"List of mayors of Ottawa\"\n",
      "}\n",
      "```\u001b[0m\n",
      "Observation: \u001b[36;1m\u001b[1;3mPage: List of mayors of Ottawa\n",
      "Summary: The following is a list of mayors of Ottawa. Until 1854, Ottawa was known as Bytown. Over the course of Ottawa's history, the borders of the municipality have greatly expanded through annexations. This most recently occurred in 2001 when a number of neighbouring communities were amalgamated with Ottawa.\n",
      "\n",
      "Page: Mayor of Ottawa\n",
      "Summary: The mayor of Ottawa (French: maire d'Ottawa) is head of the executive branch of the Ottawa City Council. The mayor is elected alongside the city council every four years on the fourth Monday of October; there are no term limits. While in office, mayors are styled His/Her Worship. \n",
      "Mark Sutcliffe has served as the 59th and current mayor of Ottawa since taking office on November 15, 2022, following the 2022 municipal election.\n",
      "\n",
      "Page: Ottawa\n",
      "Summary: Ottawa is the capital city of Canada. It is located in the southern portion of the province of Ontario, at the confluence of the Ottawa River and the Rideau River. Ottawa borders Gatineau, Quebec, and forms the core of the Ottawa–Gatineau census metropolitan area (CMA) and the National Capital Region (NCR). As of 2021, Ottawa had a city population of 1,017,449 and a metropolitan population of 1,488,307, making it the fourth-largest city and fourth-largest metropolitan area in Canada.\n",
      "Ottawa is the political centre of Canada and the headquarters of the federal government. The city houses numerous foreign embassies, key buildings, organizations, and institutions of Canada's government; these include the Parliament of Canada, the Supreme Court, the residence of Canada's viceroy, and Office of the Prime Minister.\n",
      "Founded in 1826 as Bytown, and incorporated as Ottawa in 1855, its original boundaries were expanded through numerous annexations and were ultimately replaced by a new city incorporation and amalgamation in 2001. The municipal government of Ottawa is established and governed by the City of Ottawa Act of the Government of Ontario. It has an elected city council across 24 wards and a mayor elected city-wide.\n",
      "Ottawa has the highest proportion of university-educated residents among Canadian cities and is home to several colleges and universities, research and cultural institutions, including the University of Ottawa, Carleton University, Algonquin College, Collège La Cité, the National Arts Centre, the National Gallery of Canada; and numerous national museums, monuments, and historic sites. It is one of the most visited cities in Canada, with over 11 million visitors annually.\n",
      "\n",
      "\u001b[0m\n",
      "Thought:\u001b[32;1m\u001b[1;3mI will now need to find the age of Mark Sutcliffe, the current mayor of Ottawa, to answer the question about the age of the mayor of the capital of Canada.\n",
      "\n",
      "Action:\n",
      "```\n",
      "{\n",
      "  \"action\": \"wikipedia\",\n",
      "  \"action_input\": \"Mark Sutcliffe\"\n",
      "}\n",
      "```\u001b[0m"
     ]
    },
    {
     "name": "stderr",
     "output_type": "stream",
     "text": [
      "/Users/pranavreddy/anaconda3/envs/dev/lib/python3.9/site-packages/wikipedia/wikipedia.py:389: GuessedAtParserWarning: No parser was explicitly specified, so I'm using the best available HTML parser for this system (\"html.parser\"). This usually isn't a problem, but if you run this code on another system, or in a different virtual environment, it may use a different parser and behave differently.\n",
      "\n",
      "The code that caused this warning is on line 389 of the file /Users/pranavreddy/anaconda3/envs/dev/lib/python3.9/site-packages/wikipedia/wikipedia.py. To get rid of this warning, pass the additional argument 'features=\"html.parser\"' to the BeautifulSoup constructor.\n",
      "\n",
      "  lis = BeautifulSoup(html).find_all('li')\n"
     ]
    },
    {
     "name": "stdout",
     "output_type": "stream",
     "text": [
      "\n",
      "Observation: \u001b[36;1m\u001b[1;3mPage: Mark Sutcliffe\n",
      "Summary: Mark Sutcliffe (born July 14, 1968) is a Canadian politician who has been the 59th mayor of Ottawa since 2022. Before entering politics, he hosted Ottawa Today on 1310News radio. Sutcliffe is the first Chinese Canadian and person from a visible minority group to serve as mayor of Ottawa.\n",
      "\n",
      "Page: Peter Sutcliffe\n",
      "Summary: Peter William Sutcliffe (2 June 1946 – 13 November 2020), also known as Peter Coonan, was an English serial killer who was convicted of murdering thirteen women and attempting to murder seven others between 1975 and 1980.: 144  He was dubbed in press reports as the Yorkshire Ripper, an allusion to the Victorian serial killer Jack the Ripper. Sutcliffe was sentenced to twenty concurrent sentences of life imprisonment, which were converted to a whole life order in 2010. Two of his murders took place in Manchester; all the others took place in West Yorkshire. Criminal psychologist David Holmes characterised Sutcliffe as being an \"extremely callous, sexually sadistic serial killer.\"\n",
      "Sutcliffe initially attacked women and girls in residential areas, but appears to have shifted his focus to red-light districts because he was attracted by the vulnerability of prostitutes and the perceived ambivalent attitude of police to prostitutes' safety. After his arrest in Sheffield by South Yorkshire Police for driving with false number plates in January 1981, he was transferred to the custody of West Yorkshire Police, who questioned him about the killings. Sutcliffe confessed to being the perpetrator, saying that the voice of God had sent him on a mission to kill prostitutes. At his trial he pleaded not guilty to murder on grounds of diminished responsibility, but was convicted of murder on a majority verdict. Following his conviction, Sutcliffe began using his mother's maiden name of Coonan.\n",
      "The search for Sutcliffe was one of the largest and most expensive manhunts in British history. West Yorkshire Police faced heavy and sustained criticism for their failure to catch Sutcliffe despite having interviewed him nine times in the course of their five-year investigation. Owing to the sensational nature of the case, investigators handled an exceptional amount of information, some of it misleading including hoax correspondence purporting to be from the \"Ripper.\" Following Sutcliffe's conviction, the government ordered a review of the Ripper investigation, conducted by the Inspector of Constabulary Lawrence Byford, known as the \"Byford Report.\" The findings were made fully public in 2006, and confirmed the validity of the criticism of the force. The report led to changes to investigative procedures that were adopted across British police forces. Since his conviction, Sutcliffe has been linked to a number of other unsolved crimes.\n",
      "Sutcliffe was transferred from prison to Broadmoor Hospital in March 1984 after being diagnosed with paranoid schizophrenia. The High Court dismissed an appeal by Sutcliffe in 2010, confirming that he would serve a whole life order and never be released from custody. In August 2016, it was ruled that Sutcliffe was mentally fit to be returned to prison, and he was transferred that month to HM Prison Frankland. Sutcliffe died in hospital from diabetes-related complications while in prison custody in 2020.\n",
      "\n",
      "\u001b[0m\n",
      "Thought:\u001b[32;1m\u001b[1;3mI will now need to calculate the age of Mark Sutcliffe, the current mayor of Ottawa, based on his birthdate.\n",
      "\n",
      "Action:\n",
      "```\n",
      "{\n",
      "  \"action\": \"wikipedia\",\n",
      "  \"action_input\": \"Current date\"\n",
      "}\n",
      "```\u001b[0m"
     ]
    },
    {
     "name": "stderr",
     "output_type": "stream",
     "text": [
      "/Users/pranavreddy/anaconda3/envs/dev/lib/python3.9/site-packages/wikipedia/wikipedia.py:389: GuessedAtParserWarning: No parser was explicitly specified, so I'm using the best available HTML parser for this system (\"html.parser\"). This usually isn't a problem, but if you run this code on another system, or in a different virtual environment, it may use a different parser and behave differently.\n",
      "\n",
      "The code that caused this warning is on line 389 of the file /Users/pranavreddy/anaconda3/envs/dev/lib/python3.9/site-packages/wikipedia/wikipedia.py. To get rid of this warning, pass the additional argument 'features=\"html.parser\"' to the BeautifulSoup constructor.\n",
      "\n",
      "  lis = BeautifulSoup(html).find_all('li')\n"
     ]
    },
    {
     "name": "stdout",
     "output_type": "stream",
     "text": [
      "\n",
      "Observation: \u001b[36;1m\u001b[1;3mPage: List of current state leaders by date of assumption of office\n",
      "Summary: This is a list of current state leaders ordered by their continuous tenure in a position of national leadership. For countries in which the head of state and head of government are separate, both offices are listed. For leaders who held the same office prior to their state's independence, the start of their tenure is used, not independence. For a list of heads of state taking dates of independence into account, see List of heads of state by diplomatic precedence.\n",
      "Acting presidents are included in this list, but if a leader has non-consecutive terms, only the current period of service is listed.\n",
      "States where head of state differs from head of government are mainly parliamentary systems. Often a leader holds both positions in presidential systems or dictatorships. Some states have semi-presidential systems where the head of government role is fulfilled by both the listed head of government and the head of state.\n",
      "\n",
      "Page: List of current prime ministers by date of assumption of office\n",
      "Summary: This is a list of current prime ministers of the world's sovereign states by the date they took office, from the earliest to the latest.\n",
      "\n",
      "\u001b[0m\n",
      "Thought:\u001b[32;1m\u001b[1;3mI will now calculate the age of Mark Sutcliffe, the current mayor of Ottawa, based on his birthdate.\n",
      "\n",
      "Action:\n",
      "```\n",
      "{\n",
      "  \"action\": \"wikipedia\",\n",
      "  \"action_input\": \"Current date\"\n",
      "}\n",
      "```\u001b[0m"
     ]
    },
    {
     "name": "stderr",
     "output_type": "stream",
     "text": [
      "/Users/pranavreddy/anaconda3/envs/dev/lib/python3.9/site-packages/wikipedia/wikipedia.py:389: GuessedAtParserWarning: No parser was explicitly specified, so I'm using the best available HTML parser for this system (\"html.parser\"). This usually isn't a problem, but if you run this code on another system, or in a different virtual environment, it may use a different parser and behave differently.\n",
      "\n",
      "The code that caused this warning is on line 389 of the file /Users/pranavreddy/anaconda3/envs/dev/lib/python3.9/site-packages/wikipedia/wikipedia.py. To get rid of this warning, pass the additional argument 'features=\"html.parser\"' to the BeautifulSoup constructor.\n",
      "\n",
      "  lis = BeautifulSoup(html).find_all('li')\n"
     ]
    },
    {
     "name": "stdout",
     "output_type": "stream",
     "text": [
      "\n",
      "Observation: \u001b[36;1m\u001b[1;3mPage: List of current state leaders by date of assumption of office\n",
      "Summary: This is a list of current state leaders ordered by their continuous tenure in a position of national leadership. For countries in which the head of state and head of government are separate, both offices are listed. For leaders who held the same office prior to their state's independence, the start of their tenure is used, not independence. For a list of heads of state taking dates of independence into account, see List of heads of state by diplomatic precedence.\n",
      "Acting presidents are included in this list, but if a leader has non-consecutive terms, only the current period of service is listed.\n",
      "States where head of state differs from head of government are mainly parliamentary systems. Often a leader holds both positions in presidential systems or dictatorships. Some states have semi-presidential systems where the head of government role is fulfilled by both the listed head of government and the head of state.\n",
      "\n",
      "Page: List of current prime ministers by date of assumption of office\n",
      "Summary: This is a list of current prime ministers of the world's sovereign states by the date they took office, from the earliest to the latest.\n",
      "\n",
      "\u001b[0m\n",
      "Thought:\u001b[32;1m\u001b[1;3mI will now calculate the age of Mark Sutcliffe, the current mayor of Ottawa, based on his birthdate.\n",
      "\n",
      "Action:\n",
      "```\n",
      "{\n",
      "  \"action\": \"wikipedia\",\n",
      "  \"action_input\": \"Current Canadian federal election\"\n",
      "}\n",
      "```\u001b[0m\n",
      "Observation: \u001b[36;1m\u001b[1;3mPage: Opinion polling for the 2025 Canadian federal election\n",
      "Summary: This table provides a list of scientific, nationwide public opinion polls conducted from the 2021 Canadian federal election leading up to the 2025 Canadian federal election.\n",
      "\n",
      "Page: 2025 Canadian federal election\n",
      "Summary: The 2025 Canadian federal election will take place on or before October 20, 2025, to elect members of the House of Commons to the 45th Canadian Parliament. The date of the vote is determined by the fixed-date provisions of the Canada Elections Act, which requires federal elections to be held on the third Monday in October in the fourth calendar year after the polling day of the previous election. In addition to the statutory fixed election date provisions, Canada has a constitutional requirement specified in both section 50 of the Constitution Act, 1867 and section 4 of the Canadian Charter of Rights and Freedoms that elections for the House of Commons must be called no more than five years after the writs for the preceding election are returned.\n",
      "The election may occur before the scheduled date, if the governor general dissolves Parliament on the recommendation of the prime minister, either for a snap election or after the House of Commons passes a motion of no confidence in the government. Early elections are more likely to occur during minority governments because the prime minister does not control a majority in the House of Commons and thus is more likely to lose a vote.\n",
      "This will be the first election to use a new 343-seat electoral map based on the 2021 Canadian census. New electoral boundaries for each of the ten provinces were finalized between February 14 and July 8, 2023, and officially proclaimed on September 22, 2023. The previous 338-seat electoral map would have been used if the election had been called before April 23, 2024.\n",
      "\n",
      "\n",
      "\n",
      "Page: 2021 Canadian federal election\n",
      "Summary: The 2021 Canadian federal election was held on September 20, 2021, to elect members of the House of Commons to the 44th Canadian Parliament. The writs of election were issued by Governor General Mary Simon on August 15, 2021, when Prime Minister Justin Trudeau requested the dissolution of parliament for a snap election.\n",
      "Trudeau won a third term as prime minister, his second minority government. Though the Liberals were hoping to win a majority government in order to govern alone, the results were mostly unchanged from the 2019 Canadian federal election. The Liberals won the most seats at 160; as this fell short of the 170 seats needed for a majority in the House of Commons, they formed a minority government with support from other parties. The 2021 election set a new record for the lowest vote share for a party that would go on to form a single-party minority government. The Liberals won 32.6 per cent of the popular vote, while losing the popular vote to the Conservatives as they did in 2019.\n",
      "The Conservatives led by Erin O'Toole won 119 seats, two fewer than their result in 2019, and continued as the Official Opposition. The Bloc Québécois led by Yves-François Blanchet won 32 seats, unchanged from the prior election. The New Democratic Party led by Jagmeet Singh won 25 seats, a net increase of one seat, but nonetheless fell short of expectations. The Green Party maintained two seats but party leader Annamie Paul was defeated for the third time in her riding of Toronto Centre. The party received 2.3 per cent of the popular vote, approximately a third of what they won in 2019. The People's Party did not win any seats, despite winning nearly 5 per cent of the popular vote, and party leader Maxime Bernier was defeated for the second time in his riding of Beauce.\n",
      "Trudeau faced public blowback for holding an election in the middle of a global pandemic due to his expectation that doing so could translate his supposed rallying popularity into a landslide victory. Criticism worsened when Trudeau failed to win by a majority and instead repeated his 2019 election show\u001b[0m\n",
      "Thought:\u001b[32;1m\u001b[1;3mCould not parse LLM output: Final Answer\n",
      "For troubleshooting, visit: https://python.langchain.com/docs/troubleshooting/errors/OUTPUT_PARSING_FAILURE \u001b[0m\n",
      "Observation: Invalid or incomplete response\n",
      "Thought:\u001b[32;1m\u001b[1;3mCould not parse LLM output: Final Answer\n",
      "For troubleshooting, visit: https://python.langchain.com/docs/troubleshooting/errors/OUTPUT_PARSING_FAILURE \u001b[0m\n",
      "Observation: Invalid or incomplete response\n",
      "Thought:\u001b[32;1m\u001b[1;3mI will now calculate the age of Mark Sutcliffe, the current mayor of Ottawa, based on his birthdate.\n",
      "\n",
      "Action:\n",
      "```\n",
      "{\n",
      "  \"action\": \"wikipedia\",\n",
      "  \"action_input\": \"Current date\"\n",
      "}\n",
      "```\u001b[0m"
     ]
    },
    {
     "name": "stderr",
     "output_type": "stream",
     "text": [
      "/Users/pranavreddy/anaconda3/envs/dev/lib/python3.9/site-packages/wikipedia/wikipedia.py:389: GuessedAtParserWarning: No parser was explicitly specified, so I'm using the best available HTML parser for this system (\"html.parser\"). This usually isn't a problem, but if you run this code on another system, or in a different virtual environment, it may use a different parser and behave differently.\n",
      "\n",
      "The code that caused this warning is on line 389 of the file /Users/pranavreddy/anaconda3/envs/dev/lib/python3.9/site-packages/wikipedia/wikipedia.py. To get rid of this warning, pass the additional argument 'features=\"html.parser\"' to the BeautifulSoup constructor.\n",
      "\n",
      "  lis = BeautifulSoup(html).find_all('li')\n"
     ]
    },
    {
     "name": "stdout",
     "output_type": "stream",
     "text": [
      "\n",
      "Observation: \u001b[36;1m\u001b[1;3mPage: List of current state leaders by date of assumption of office\n",
      "Summary: This is a list of current state leaders ordered by their continuous tenure in a position of national leadership. For countries in which the head of state and head of government are separate, both offices are listed. For leaders who held the same office prior to their state's independence, the start of their tenure is used, not independence. For a list of heads of state taking dates of independence into account, see List of heads of state by diplomatic precedence.\n",
      "Acting presidents are included in this list, but if a leader has non-consecutive terms, only the current period of service is listed.\n",
      "States where head of state differs from head of government are mainly parliamentary systems. Often a leader holds both positions in presidential systems or dictatorships. Some states have semi-presidential systems where the head of government role is fulfilled by both the listed head of government and the head of state.\n",
      "\n",
      "Page: List of current prime ministers by date of assumption of office\n",
      "Summary: This is a list of current prime ministers of the world's sovereign states by the date they took office, from the earliest to the latest.\n",
      "\n",
      "\u001b[0m\n",
      "Thought:\u001b[32;1m\u001b[1;3mFinal Answer: The age of the mayor of the capital of Canada, Mark Sutcliffe, is 54 years old (as of 2022).\u001b[0m\n",
      "\n",
      "\u001b[1m> Finished chain.\u001b[0m\n"
     ]
    }
   ],
   "source": [
    "# Initialize the model.\n",
    "llm = ChatOpenAI(\n",
    "    openai_api_key = OPENAI_API_KEY,\n",
    "    name= OPENAI_MODEL, \n",
    "    temperature=0.3\n",
    "                 )\n",
    "\n",
    "# Set up the built-in wikipedia tool.\n",
    "tools = load_tools(['wikipedia'], \n",
    "                   llm = llm)\n",
    "\n",
    "# Initialize the agent.\n",
    "agent = initialize_agent(tools,\n",
    "                         agent = \"chat-zero-shot-react-description\",\n",
    "                         verbose = True,\n",
    "                         llm = llm, \n",
    "                         handle_parsing_errors = True\n",
    "                         )\n",
    "\n",
    "# Define a query as a string inside a dictionary.\n",
    "query = {\"input\" : \"what is the age of the mayor of the capital of Canada?\"}\n",
    "\n",
    "# Run the agent using the query.\n",
    "result = agent.run(query)\n"
   ]
  },
  {
   "cell_type": "markdown",
   "metadata": {},
   "source": [
    "# Agent with Multiple Tools"
   ]
  },
  {
   "cell_type": "code",
   "execution_count": 10,
   "metadata": {},
   "outputs": [
    {
     "name": "stdout",
     "output_type": "stream",
     "text": [
      "Collecting pyowm\n",
      "  Obtaining dependency information for pyowm from https://files.pythonhosted.org/packages/6e/88/1279817aa7f5988a2ff42a6755fd371f3c1806aca377cb63b3d16684b174/pyowm-3.3.0-py3-none-any.whl.metadata\n",
      "  Downloading pyowm-3.3.0-py3-none-any.whl.metadata (6.8 kB)\n",
      "Requirement already satisfied: requests<3,>=2.20.0 in /Users/pranavreddy/anaconda3/envs/dev/lib/python3.9/site-packages (from pyowm) (2.31.0)\n",
      "Collecting geojson<3,>=2.3.0 (from pyowm)\n",
      "  Obtaining dependency information for geojson<3,>=2.3.0 from https://files.pythonhosted.org/packages/e4/8d/9e28e9af95739e6d2d2f8d4bef0b3432da40b7c3588fbad4298c1be09e48/geojson-2.5.0-py2.py3-none-any.whl.metadata\n",
      "  Downloading geojson-2.5.0-py2.py3-none-any.whl.metadata (15 kB)\n",
      "Collecting PySocks<2,>=1.7.1 (from pyowm)\n",
      "  Obtaining dependency information for PySocks<2,>=1.7.1 from https://files.pythonhosted.org/packages/8d/59/b4572118e098ac8e46e399a1dd0f2d85403ce8bbaad9ec79373ed6badaf9/PySocks-1.7.1-py3-none-any.whl.metadata\n",
      "  Downloading PySocks-1.7.1-py3-none-any.whl.metadata (13 kB)\n",
      "Requirement already satisfied: charset-normalizer<4,>=2 in /Users/pranavreddy/anaconda3/envs/dev/lib/python3.9/site-packages (from requests<3,>=2.20.0->pyowm) (2.1.1)\n",
      "Requirement already satisfied: idna<4,>=2.5 in /Users/pranavreddy/anaconda3/envs/dev/lib/python3.9/site-packages (from requests<3,>=2.20.0->pyowm) (3.4)\n",
      "Requirement already satisfied: urllib3<3,>=1.21.1 in /Users/pranavreddy/anaconda3/envs/dev/lib/python3.9/site-packages (from requests<3,>=2.20.0->pyowm) (1.26.20)\n",
      "Requirement already satisfied: certifi>=2017.4.17 in /Users/pranavreddy/anaconda3/envs/dev/lib/python3.9/site-packages (from requests<3,>=2.20.0->pyowm) (2023.7.22)\n",
      "Downloading pyowm-3.3.0-py3-none-any.whl (4.5 MB)\n",
      "\u001b[2K   \u001b[90m━━━━━━━━━━━━━━━━━━━━━━━━━━━━━━━━━━━━━━━━\u001b[0m \u001b[32m4.5/4.5 MB\u001b[0m \u001b[31m12.2 MB/s\u001b[0m eta \u001b[36m0:00:00\u001b[0ma \u001b[36m0:00:01\u001b[0m\n",
      "\u001b[?25hDownloading geojson-2.5.0-py2.py3-none-any.whl (14 kB)\n",
      "Downloading PySocks-1.7.1-py3-none-any.whl (16 kB)\n",
      "Installing collected packages: geojson, PySocks, pyowm\n",
      "Successfully installed PySocks-1.7.1 geojson-2.5.0 pyowm-3.3.0\n",
      "Note: you may need to restart the kernel to use updated packages.\n"
     ]
    }
   ],
   "source": [
    "pip install pyowm"
   ]
  },
  {
   "cell_type": "code",
   "execution_count": 11,
   "metadata": {},
   "outputs": [
    {
     "name": "stdout",
     "output_type": "stream",
     "text": [
      "\n",
      "\n",
      "\u001b[1m> Entering new AgentExecutor chain...\u001b[0m\n",
      "\u001b[32;1m\u001b[1;3mI should use the open_weather_map tool to find the current weather in the city where penicillin was first isolated.\n",
      "Action: open_weather_map\n",
      "Action Input: London,GB\u001b[0m\n",
      "Observation: \u001b[33;1m\u001b[1;3mIn London,GB, the current weather is as follows:\n",
      "Detailed status: overcast clouds\n",
      "Wind speed: 0.51 m/s, direction: 0°\n",
      "Humidity: 87%\n",
      "Temperature: \n",
      "  - Current: 0.28°C\n",
      "  - High: 1.74°C\n",
      "  - Low: -0.56°C\n",
      "  - Feels like: 0.28°C\n",
      "Rain: {}\n",
      "Heat index: None\n",
      "Cloud cover: 99%\u001b[0m\n",
      "Thought:\u001b[32;1m\u001b[1;3mI now know the current weather in London, where penicillin was first isolated.\n",
      "Final Answer: The current weather in London, where penicillin was first isolated, is overcast clouds with a temperature of 0.28°C.\u001b[0m\n",
      "\n",
      "\u001b[1m> Finished chain.\u001b[0m\n",
      "{'input': 'What is the current weather in the city where penicillin was first isolated? ', 'output': 'The current weather in London, where penicillin was first isolated, is overcast clouds with a temperature of 0.28°C.'}\n"
     ]
    }
   ],
   "source": [
    "# Initialize the model.\n",
    "llm = ChatOpenAI(openai_api_key=OPENAI_API_KEY, \n",
    "                 model=OPENAI_MODEL, temperature=0.3)\n",
    "\n",
    "# Set up the built-in wikipedia and open weather tools.\n",
    "tools = load_tools(['wikipedia',\n",
    "                  \"openweathermap-api\"],\n",
    "                  llm=llm)\n",
    "\n",
    "# Initialize the agent.\n",
    "agent = initialize_agent(tools=tools,\n",
    "                         verbose = True,\n",
    "                         handel_parsing_errors = True,\n",
    "                         max_iterations = 5,\n",
    "                         llm = llm\n",
    "                         )\n",
    "\n",
    "# Define a query as a string inside a dictionary.\n",
    "query = {\"input\" : \"What is the current weather in the city where penicillin was first isolated? \"}\n",
    "\n",
    "# Run the agent using the query.\n",
    "result = agent.invoke(query)\n",
    "print(result)"
   ]
  },
  {
   "cell_type": "markdown",
   "metadata": {},
   "source": [
    "# Creating Custom Tools"
   ]
  },
  {
   "cell_type": "code",
   "execution_count": 13,
   "metadata": {},
   "outputs": [],
   "source": [
    "# Additional imports for creating tools.\n",
    "from langchain.tools import tool\n",
    "from langchain.agents import initialize_agent\n",
    "from langchain.chains import APIChain, LLMMathChain"
   ]
  },
  {
   "cell_type": "code",
   "execution_count": 15,
   "metadata": {},
   "outputs": [
    {
     "name": "stdout",
     "output_type": "stream",
     "text": [
      "\n",
      "\n",
      "\u001b[1m> Entering new AgentExecutor chain...\u001b[0m\n",
      "\u001b[32;1m\u001b[1;3mQuestion: What is a fun fact about the sum of 20 and 35?\n",
      "Thought: We can use the number_api tool to find a fun fact about the sum of 20 and 35.\n",
      "Action:\n",
      "```\n",
      "{\n",
      "  \"action\": \"number_api\",\n",
      "  \"action_input\": \"55\"\n",
      "}\n",
      "```\n",
      "\u001b[0m\n",
      "\n",
      "\u001b[1m> Entering new APIChain chain...\u001b[0m\n",
      "\u001b[32;1m\u001b[1;3mhttp://numbersapi.com/55\u001b[0m\n",
      "\u001b[33;1m\u001b[1;3m55 is the standard size of drum in US gallons.\u001b[0m\n",
      "\n",
      "\u001b[1m> Finished chain.\u001b[0m\n",
      "\n",
      "Observation: \u001b[33;1m\u001b[1;3mThe number 55 is the standard size of a drum in US gallons.\u001b[0m\n",
      "Thought:\u001b[32;1m\u001b[1;3mCould not parse LLM output: Final Answer\n",
      "For troubleshooting, visit: https://python.langchain.com/docs/troubleshooting/errors/OUTPUT_PARSING_FAILURE \u001b[0m\n",
      "Observation: Invalid or incomplete response\n",
      "Thought:\u001b[32;1m\u001b[1;3mCould not parse LLM output: It seems like there was an issue with retrieving the fun fact about the sum of 20 and 35. Let's try again to get a fun fact about the number 55.\n",
      "\n",
      "Action:\n",
      "```\n",
      "{\n",
      "  \"action\": \"number_api\",\n",
      "  \"action_input\": 55\n",
      "}\n",
      "``` \n",
      "\n",
      "\n",
      "For troubleshooting, visit: https://python.langchain.com/docs/troubleshooting/errors/OUTPUT_PARSING_FAILURE \u001b[0m\n",
      "Observation: Invalid or incomplete response\n",
      "Thought:\u001b[32;1m\u001b[1;3mCould not parse LLM output: It seems like there is an issue with retrieving a fun fact about the sum of 20 and 35 directly. Let's try a different approach by looking up a fun fact about the number 55 itself.\n",
      "\n",
      "Action:\n",
      "```\n",
      "{\n",
      "  \"action\": \"number_api\",\n",
      "  \"action_input\": 55\n",
      "}\n",
      "``` \n",
      "\n",
      "\n",
      "For troubleshooting, visit: https://python.langchain.com/docs/troubleshooting/errors/OUTPUT_PARSING_FAILURE \u001b[0m\n",
      "Observation: Invalid or incomplete response\n",
      "Thought:\u001b[32;1m\u001b[1;3mIt seems like there is an issue with retrieving a fun fact about the sum of 20 and 35 directly. Let's try a different approach by looking up a fun fact about the number 55 itself.\n",
      "\n",
      "Action:\n",
      "```\n",
      "{\n",
      "  \"action\": \"number_api\",\n",
      "  \"action_input\": \"55\"\n",
      "}\n",
      "``` \n",
      "\n",
      "\u001b[0m\n",
      "\n",
      "\u001b[1m> Entering new APIChain chain...\u001b[0m\n",
      "\u001b[32;1m\u001b[1;3mhttp://numbersapi.com/55\u001b[0m\n",
      "\u001b[33;1m\u001b[1;3m55 is the common speed limit for rural secondary roads and many urban freeways in many states of the United States.\u001b[0m\n",
      "\n",
      "\u001b[1m> Finished chain.\u001b[0m\n",
      "\n",
      "Observation: \u001b[33;1m\u001b[1;3mThe number 55 is a common speed limit for rural secondary roads and many urban freeways in the United States.\u001b[0m\n",
      "Thought:\u001b[32;1m\u001b[1;3mFinal Answer: The number 55 is a common speed limit for rural secondary roads and many urban freeways in the United States.\u001b[0m\n",
      "\n",
      "\u001b[1m> Finished chain.\u001b[0m\n",
      "The number 55 is a common speed limit for rural secondary roads and many urban freeways in the United States.\n"
     ]
    }
   ],
   "source": [
    "# Initialize the model.\n",
    "llm = ChatOpenAI(openai_api_key = OPENAI_API_KEY, model=OPENAI_MODEL, temperature=0.0)\n",
    "\n",
    "# Text description of API spec.\n",
    "spec = \"\"\" \n",
    "URL STRUCTURE\n",
    "        Just hit http://numbersapi.com/number/type to get a plain text response, where\n",
    "        type is one of trivia, math, date, or year. Defaults to trivia if omitted.\n",
    "        number is an integer, or the keyword random, for which we will try to return\n",
    "        a random available fact, or a day of year in the form month/day \n",
    "        (eg. 2/29, 1/09, 04/1), if type is date ranges of numbers\n",
    "\n",
    "\"\"\"\n",
    "\n",
    "# Create the API chain from the spec, using the LLM.\n",
    "api_chain = APIChain.from_llm_and_api_docs(\n",
    "    llm, \n",
    "    api_docs = spec,\n",
    "    verbose = True,\n",
    "    limit_to_domains = [\"https://numbersapi.com\", \"http://numbersapi.com\"]\n",
    ")\n",
    "\n",
    "# Define a tool for querying the Numbers API.\n",
    "@tool(\"number_api\")\n",
    "def number_tool(query: str) -> str :\n",
    "    \"\"\" \n",
    "    Look up fun facts about numbers or dates\n",
    "    \"\"\"\n",
    "    result = api_chain.run(query)\n",
    "    return result\n",
    "\n",
    "# Initialize the math chain using the LLM.\n",
    "math_chain = LLMMathChain.from_llm(llm=llm, verbose=True)\n",
    "\n",
    "# Define a tool for doing math.\n",
    "@tool(\"number_api\")\n",
    "def math_tool(query: str) -> str: \n",
    "    \"\"\"\n",
    "    Perform Math calculations\n",
    "    \"\"\"\n",
    "    result = math_chain.run(query)\n",
    "    return result\n",
    "\n",
    "# Store the tools in a list.\n",
    "tools = [math_tool, number_tool]\n",
    "\n",
    "# Initialize the agent.\n",
    "agent = initialize_agent(tools, agent=\"chat-zero-shot-react-description\", verbose=True, llm=llm, handle_parsing_errors=True)\n",
    "\n",
    "# Define a query as a string inside a dictionary.\n",
    "query = {\"input\": \"What is a fun fact about the sum of 20 and 35\"}\n",
    "\n",
    "# Run the agent using the query.\n",
    "result = agent.run(query)\n",
    "print(result)"
   ]
  }
 ],
 "metadata": {
  "kernelspec": {
   "display_name": "Python 3.9.17 ('dev')",
   "language": "python",
   "name": "python3"
  },
  "language_info": {
   "codemirror_mode": {
    "name": "ipython",
    "version": 3
   },
   "file_extension": ".py",
   "mimetype": "text/x-python",
   "name": "python",
   "nbconvert_exporter": "python",
   "pygments_lexer": "ipython3",
   "version": "3.9.17"
  },
  "vscode": {
   "interpreter": {
    "hash": "caeb93e0c684d3bd81d88b6578a6aeba546c7425658c4217d79fa0d92d9f2865"
   }
  }
 },
 "nbformat": 4,
 "nbformat_minor": 2
}
